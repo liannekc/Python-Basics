{
  "nbformat": 4,
  "nbformat_minor": 0,
  "metadata": {
    "colab": {
      "name": "HW1_Chu_Lianne.ipynb",
      "provenance": [],
      "collapsed_sections": [],
      "include_colab_link": true
    },
    "kernelspec": {
      "name": "python3",
      "display_name": "Python 3"
    }
  },
  "cells": [
    {
      "cell_type": "markdown",
      "metadata": {
        "id": "view-in-github",
        "colab_type": "text"
      },
      "source": [
        "<a href=\"https://colab.research.google.com/github/liannekc/Python-Basics/blob/main/Python-Basics.ipynb\" target=\"_parent\"><img src=\"https://colab.research.google.com/assets/colab-badge.svg\" alt=\"Open In Colab\"/></a>"
      ]
    },
    {
      "cell_type": "markdown",
      "metadata": {
        "id": "hm8RAKinXsIP"
      },
      "source": [
        "## **Homework 1**\n",
        "\n",
        "### Create a copy of the notebook to start answering the questions. Name your notebook in the format HW1_lastname_firstname.ipynb to facilitate the grading process. \n",
        "\n",
        "### Answer all the questions, test your code to ensure there are no errors and the results are as expected. Once you have answered all the questions, save the final copy, then go to File-> click on Download.ipynb. Once the local copy has been downloaded, submit your file on Blackboard under the corresponding assignment section. Also provide us a link to your notebook during submission. \n",
        "\n",
        "### **The due date of this homework is 02/05/2021 (Friday).**\n",
        "\n",
        "### Please ensure you follow all the steps mentioned in the homework.\n",
        "\n",
        "### All the questions have a sample input and output to help you understand the question. Please note that your programs will be tested for other sets of inputs and outputs along with the sample provided. So test your code for other inputs.\n",
        "\n",
        "### You can submit your solutions any number of times until the deadline.\n"
      ]
    },
    {
      "cell_type": "markdown",
      "metadata": {
        "id": "uacFrEaZfcfq"
      },
      "source": [
        "##### Q1. Write a program that prompts the user to enter a password then prints the length of the password.\n",
        "\n",
        "```\n",
        "Enter your password: hello\n",
        "Your password is 5 long.\n",
        "```\n",
        "\n",
        "\n"
      ]
    },
    {
      "cell_type": "code",
      "metadata": {
        "id": "avPyES14ftCt",
        "colab": {
          "base_uri": "https://localhost:8080/"
        },
        "outputId": "028984e2-ed91-462b-c0f9-a46ba1d9d68f"
      },
      "source": [
        "#gets user input and counts length of input\n",
        "password = input(\"Enter your password: \")\n",
        "lenP = len(password)\n",
        "print(\"You password is\", lenP, \"long.\")"
      ],
      "execution_count": null,
      "outputs": [
        {
          "output_type": "stream",
          "text": [
            "Enter your password: Hello\n",
            "You password is 5 long.\n"
          ],
          "name": "stdout"
        }
      ]
    },
    {
      "cell_type": "markdown",
      "metadata": {
        "id": "ekh-kABuItli"
      },
      "source": [
        ""
      ]
    },
    {
      "cell_type": "markdown",
      "metadata": {
        "id": "K1yko-xUItU3"
      },
      "source": [
        ""
      ]
    },
    {
      "cell_type": "markdown",
      "metadata": {
        "id": "behD0j_Of2TW"
      },
      "source": [
        "##### Q2. Write a program that prompts the user to enter their full name then prints the number of characters in their name (do not count spaces).\n",
        "\n",
        "```\n",
        "What is your name? Amulya Katti\n",
        "Amulya Katti your name has 11 characters.\n",
        "```"
      ]
    },
    {
      "cell_type": "code",
      "metadata": {
        "id": "XSdIRjwlhSlu",
        "colab": {
          "base_uri": "https://localhost:8080/"
        },
        "outputId": "b91be256-63ac-4cb3-9118-b1c780f0572e"
      },
      "source": [
        "name = input(\"What is your name? \")\n",
        "# counts input without spaces\n",
        "char = len(name) - name.count(\" \")\n",
        "print(name, \"your name has\", char, \"characters.\")"
      ],
      "execution_count": null,
      "outputs": [
        {
          "output_type": "stream",
          "text": [
            "What is your name? Amulya Katti\n",
            "Amulya Katti your name has 11 characters.\n"
          ],
          "name": "stdout"
        }
      ]
    },
    {
      "cell_type": "markdown",
      "metadata": {
        "id": "5KHOWF6FhVHV"
      },
      "source": [
        "##### Q3. Write a program that prompts the user to enter a month (as a number), then prints the name of the month and the number of days in that month. Ensure that the user inputs a valid month and handle any error cases.\n",
        "\n",
        "```\n",
        "Enter the month number: 9\n",
        "September has 30 days\n",
        "```"
      ]
    },
    {
      "cell_type": "code",
      "metadata": {
        "id": "KhS-SAEThyTG",
        "colab": {
          "base_uri": "https://localhost:8080/"
        },
        "outputId": "4e29af6d-9ea4-4067-9b8e-25848f8eaabd"
      },
      "source": [
        "userMonth = input(\"Enter the month number: \")\n",
        "#error check user input\n",
        "while userMonth.isdigit() == False or int(userMonth) > 12:\n",
        "  userMonth = input(\"Enter the month number: \")\n",
        "\n",
        "#dictionary for month names and number of days\n",
        "month = {\"1\":\"January\", \"2\":\"February\", \"3\":\"March\", \"4\":\"April\", \"5\":\"May\",\n",
        "         \"6\":\"June\", \"7\":\"July\", \"8\":\"August\", \"9\":\"September\", \"10\":\"October\", \"11\":\"November\", \"12\":\"December\"}\n",
        "days = {\"1\":31, \"2\":28, \"3\":31, \"4\":30, \"5\":31, \"6\":30, \"7\":31, \"8\":31, \"9\":30, \"10\":31, \"11\":30, \"12\":31}\n",
        "\n",
        "print(month[userMonth],\"has\",days[userMonth],\"days\")\n",
        "\n"
      ],
      "execution_count": null,
      "outputs": [
        {
          "output_type": "stream",
          "text": [
            "Enter the month number: 2\n",
            "February has 28 days\n"
          ],
          "name": "stdout"
        }
      ]
    },
    {
      "cell_type": "markdown",
      "metadata": {
        "id": "O7lnAdGlh6Xa"
      },
      "source": [
        "##### Q4. Write a program that prompts the user to enter a loan amount, annual interest rate, and number of years  for a car loan. Then calculate and print the monthly payment amount.\n",
        "\n",
        "Note:\n",
        "```\n",
        "PMT= [PV*i*((1+i)^n)]/[((1+i)^n)-1]\n",
        "```\n",
        "PMT is the monthly payment\n",
        "\n",
        "PV is the loan amount\n",
        "\n",
        "i is the interest rate per month in decimal form (interest rate percentage divided by 12)\n",
        "\n",
        "n is the number of months (term of the loan in months)\n",
        "\n",
        "```\n",
        "Loan Amount: 30000.00\n",
        "Annual Interest Rate: 4.00\n",
        "Years: 5\n",
        "Your monthly payment is: $552.50\n",
        "```"
      ]
    },
    {
      "cell_type": "code",
      "metadata": {
        "id": "p4B5JH5GiTs9",
        "colab": {
          "base_uri": "https://localhost:8080/"
        },
        "outputId": "bca58166-7fb1-45e5-8201-d66e874e6361"
      },
      "source": [
        "pv = float(input(\"Loan Amount: \"))\n",
        "air = float(input(\"Annual Interest Rate: \"))\n",
        "years = float(input(\"Years: \"))\n",
        "i = air/1200\n",
        "n = years*12\n",
        "\n",
        "pmt= (pv*i*((1+i)**n))/(((1+i)**n)-1)\n",
        "print(\"Your monthly payment is:\" + \" $\" + str(round(pmt,1)))"
      ],
      "execution_count": null,
      "outputs": [
        {
          "output_type": "stream",
          "text": [
            "Loan Amount: 12\n",
            "Annual Interest Rate: 1\n",
            "Years: 1\n",
            "Your monthly payment is: $1.0\n"
          ],
          "name": "stdout"
        }
      ]
    },
    {
      "cell_type": "markdown",
      "metadata": {
        "id": "SjiolJKgiWV-"
      },
      "source": [
        "##### Q5. Write a program to that prompts the user to enter a string. Then check whether or not the string is a palindrome.\n",
        "\n",
        "```\n",
        "Enter a string: Madam\n",
        "Madam, is a palindrome!\n",
        "```"
      ]
    },
    {
      "cell_type": "code",
      "metadata": {
        "id": "F5_M934Ri0es",
        "colab": {
          "base_uri": "https://localhost:8080/"
        },
        "outputId": "e1f0c073-81fe-4069-e9e5-0faf9afcec50"
      },
      "source": [
        "word = input(\"Enter a string: \")\n",
        "#reverses word to check for similarity (disregarding capitalization)\n",
        "reverse = word[::-1]\n",
        "if word.lower() == reverse.lower():\n",
        "  print(word + \",\" + \" is a palindrome!\")\n",
        "else:\n",
        "  print(word, \"is not a palindrome\")"
      ],
      "execution_count": null,
      "outputs": [
        {
          "output_type": "stream",
          "text": [
            "Enter a string: Madam\n",
            "Madam, is a palindrome!\n"
          ],
          "name": "stdout"
        }
      ]
    },
    {
      "cell_type": "markdown",
      "metadata": {
        "id": "BLBD6n9vkJEu"
      },
      "source": [
        "##### Q6. Write a program to compute and print all possible combinations of change for \\$1. Denominations to be considered – quarter, dime, nickel, penny.\n",
        "\n",
        "Hint: Use nested loops (loops within loops for the various denominations of coins)\n",
        "\n",
        "```\n",
        "Change for $1:\n",
        "0 quarters, 0 dimes, 0 nickels, 100 pennies\n",
        "…\n",
        "4 quarters, 0 dimes, 0 nickels, 0 pennies\n",
        "```"
      ]
    },
    {
      "cell_type": "code",
      "metadata": {
        "id": "kAQsTjwDkZZ5"
      },
      "source": [
        "print(\"Change for $1:\")\n",
        "for quarter in range(5):\n",
        "  for dime in range(11):\n",
        "    for nickel in range(21):\n",
        "      for penny in range(101):\n",
        "        if ((quarter * 25)+(dime*10)+(nickel*5)+(penny*1)) == 100:\n",
        "          print(quarter,\"quarters,\",dime,\"dimes,\",nickel,\"nickels,\",penny,\"pennies\")"
      ],
      "execution_count": null,
      "outputs": []
    },
    {
      "cell_type": "markdown",
      "metadata": {
        "id": "rUPDjYiIkbgs"
      },
      "source": [
        "##### Q7. Ask the user to enter two positive integers between 1 and 100. Read those integers. Then output a multiplication table of the first number times the second number. \n",
        "\n",
        "Note: You have to ensure the entered numbers are between 1 and 100 only.\n",
        "\n",
        "```\n",
        "Please enter an integer: 5\n",
        "Please enter another integer: 20\n",
        "5 x 1 = 5\n",
        "5 x 2 = 10\n",
        "5 x 3 = 15\n",
        "…\n",
        "5 x 20 = 100\n",
        "```"
      ]
    },
    {
      "cell_type": "code",
      "metadata": {
        "id": "Qg0Orv1klHzA",
        "colab": {
          "base_uri": "https://localhost:8080/"
        },
        "outputId": "148f7dcb-78bc-4921-c87a-0f2c36b776a4"
      },
      "source": [
        "integer_1 = input(\"Please enter an integer: \")\n",
        "while integer_1.isdigit() == False or int(integer_1) < 1 or int(integer_1) > 100:\n",
        "  integer_1 = input(\"Please enter an integer: \")\n",
        "  \n",
        "integer_2 = input(\"Please enter another integer: \")\n",
        "while integer_2.isdigit() == False or int(integer_2) < 1 or int(integer_2) > 100:\n",
        "  integer_2 = input(\"Please enter another integer: \")\n",
        "#iterates through input\n",
        "for i in range(1,int(integer_2) + 1):\n",
        "  product = i * int(integer_1)\n",
        "  print(integer_1,\"x\",i,\"=\",product)"
      ],
      "execution_count": null,
      "outputs": [
        {
          "output_type": "stream",
          "text": [
            "Please enter an integer: 4\n",
            "Please enter another integer: 4\n",
            "4 x 1 = 4\n",
            "4 x 2 = 8\n",
            "4 x 3 = 12\n",
            "4 x 4 = 16\n"
          ],
          "name": "stdout"
        }
      ]
    },
    {
      "cell_type": "markdown",
      "metadata": {
        "id": "SbnbPUPTlLD9"
      },
      "source": [
        "##### Q8. Write a program to ask the user to enter a password. Then check to see if it is a valid password based on these requirements -\n",
        "\n",
        "Must be at least 8 characters long\n",
        "\n",
        "Must contain both uppercase and lowercase letters\n",
        "\n",
        "Must contain at least one number between 0-9\n",
        "\n",
        "Must contain a special character -!,@,#,$\n",
        "\n",
        "If the password is not valid, ask the user to re-enter. This should continue until the user enters a valid password. After a valid password is entered, print Access Granted!\n",
        "\n",
        "```\n",
        "Please enter a password. Follow these requirements - \n",
        "a. Must be at least 8 characters long\n",
        "b. Must contain both uppercase and lowercase letters\n",
        "c. Must contain at least one number between 0-9\n",
        "d. Must contain a special character -!,@,#,$\n",
        "Password: HelloWorld1\n",
        "Invalid password. Try again!\n",
        "Password: Hello@World1\n",
        "Access Granted!\n",
        "```\n"
      ]
    },
    {
      "cell_type": "code",
      "metadata": {
        "id": "OXmZ177Rl-RV",
        "colab": {
          "base_uri": "https://localhost:8080/"
        },
        "outputId": "f736c54a-62c4-4ebc-c4ba-f42a6db18b48"
      },
      "source": [
        "print(\"Please enter a password. Follow these requirements -\")\n",
        "print(\"a. Must be at least 8 characters long\")\n",
        "print(\"b. Must contain both uppercase and lowercase letters\")\n",
        "print(\"c. Must contain at least one number between 0-9\")\n",
        "print(\"d. Must contain a special character -!,@,#,$\")\n",
        "\n",
        "l = 0\n",
        "u = 0\n",
        "d = 0\n",
        "s = 0\n",
        "status = False\n",
        "while status == False:\n",
        "  password1 = input(\"Password: \")\n",
        "  #checking for conditions\n",
        "  if len(password1) >= 8:\n",
        "    for i in password1:\n",
        "      if i.islower() == True:\n",
        "        l+=1\n",
        "      if i.isupper() == True:\n",
        "        u+=1\n",
        "      if i.isdigit() == True:\n",
        "        d+=1\n",
        "      if i ==\"!\" or i == \"@\" or i ==\"#\" or i == \"$\":\n",
        "        s+=1\n",
        "  if (l==0 or u==0 or s==0 or d==0): \n",
        "      print(\"Invalid password. Try again!\")\n",
        "      status = False\n",
        "      l = 0\n",
        "      u = 0\n",
        "      d = 0\n",
        "      s = 0   \n",
        "  else: \n",
        "      print(\"Access Granted\")\n",
        "      status = True "
      ],
      "execution_count": null,
      "outputs": [
        {
          "output_type": "stream",
          "text": [
            "Please enter a password. Follow these requirements -\n",
            "a. Must be at least 8 characters long\n",
            "b. Must contain both uppercase and lowercase letters\n",
            "c. Must contain at least one number between 0-9\n",
            "d. Must contain a special character -!,@,#,$\n",
            "Password: HelloWorld1\n",
            "Invalid password. Try again!\n",
            "Password: @@@@@@@@\n",
            "Invalid password. Try again!\n",
            "Password: Hello@World1\n",
            "Access Granted\n"
          ],
          "name": "stdout"
        }
      ]
    },
    {
      "cell_type": "markdown",
      "metadata": {
        "id": "-0sdutTDnTKA"
      },
      "source": [
        "##### Q9. Given the score sheet of participants in a competition, you are required to find the runner-up score. You are given scores in a list. Find the score of the runner-up.\n",
        "\n",
        "```\n",
        "list1 - [2, 3, 6, 6, 5]\n",
        "runner_up - 5\n",
        "\n",
        "list2 - [1, 7, 5, 3, 10, 4, 5, 5, 6, 11]\n",
        "runner_up - 10\n",
        "```"
      ]
    },
    {
      "cell_type": "code",
      "metadata": {
        "id": "12YP9OaqpGRK",
        "colab": {
          "base_uri": "https://localhost:8080/"
        },
        "outputId": "8e5c27f7-530b-4b42-f0a7-0bf322c0662a"
      },
      "source": [
        "\n",
        "list1 = [2, 3, 6, 6, 5]\n",
        "list2 = [1, 7, 5, 3, 10, 4, 5, 5, 6, 11]\n",
        "\n",
        "# remove duplicates in list\n",
        "list1_copy = []\n",
        "for i in list1:\n",
        "  if i not in list1_copy:\n",
        "    list1_copy.append(i)\n",
        "\n",
        "list2_copy = []\n",
        "for i in list2:\n",
        "  if i not in list2_copy:\n",
        "    list2_copy.append(i)\n",
        "\n",
        "# remove max value from list to find the 2nd max\n",
        "print(\"list1 -\", list1)\n",
        "list1_copy.remove(max(list1_copy))\n",
        "print(\"runner_up -\", max(list1_copy)) \n",
        "\n",
        "print()\n",
        "print(\"list2 -\", list2)\n",
        "list2_copy.remove(max(list2_copy))\n",
        "print(\"runner_up -\", max(list2_copy)) "
      ],
      "execution_count": null,
      "outputs": [
        {
          "output_type": "stream",
          "text": [
            "list1 - [2, 3, 6, 6, 5]\n",
            "runner_up - 5\n",
            "\n",
            "list2 - [1, 7, 5, 3, 10, 4, 5, 5, 6, 11]\n",
            "runner_up - 10\n"
          ],
          "name": "stdout"
        }
      ]
    }
  ]
}